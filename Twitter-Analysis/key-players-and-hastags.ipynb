{
 "cells": [
  {
   "cell_type": "markdown",
   "id": "3c5f081b",
   "metadata": {},
   "source": [
    "# Challenge#1 - Key Players and hashtags"
   ]
  },
  {
   "cell_type": "code",
   "execution_count": 154,
   "id": "508803e9",
   "metadata": {},
   "outputs": [],
   "source": [
    "import pandas as pd\n",
    "import ast\n",
    "import matplotlib.pyplot as plt\n",
    "import matplotlib.ticker as mtick\n",
    "%matplotlib inline"
   ]
  },
  {
   "cell_type": "code",
   "execution_count": 155,
   "id": "ff1abbd6",
   "metadata": {},
   "outputs": [],
   "source": [
    "df_raw = pd.read_csv('data/cleaned-twitter-data.csv', index_col=0)\n",
    "\n",
    "df = df_raw.copy()"
   ]
  },
  {
   "cell_type": "code",
   "execution_count": 156,
   "id": "3347c2a9",
   "metadata": {},
   "outputs": [
    {
     "data": {
      "text/html": [
       "<div>\n",
       "<style scoped>\n",
       "    .dataframe tbody tr th:only-of-type {\n",
       "        vertical-align: middle;\n",
       "    }\n",
       "\n",
       "    .dataframe tbody tr th {\n",
       "        vertical-align: top;\n",
       "    }\n",
       "\n",
       "    .dataframe thead th {\n",
       "        text-align: right;\n",
       "    }\n",
       "</style>\n",
       "<table border=\"1\" class=\"dataframe\">\n",
       "  <thead>\n",
       "    <tr style=\"text-align: right;\">\n",
       "      <th></th>\n",
       "      <th>date</th>\n",
       "      <th>content</th>\n",
       "      <th>username</th>\n",
       "      <th>like_count</th>\n",
       "      <th>retweet_count</th>\n",
       "      <th>accounts_mentioned</th>\n",
       "      <th>hashtags</th>\n",
       "    </tr>\n",
       "  </thead>\n",
       "  <tbody>\n",
       "    <tr>\n",
       "      <th>0</th>\n",
       "      <td>2023-03-29 22:58:21+00:00</td>\n",
       "      <td>free ai marketing automation tool strategy col...</td>\n",
       "      <td>RealProfitPros</td>\n",
       "      <td>0</td>\n",
       "      <td>0</td>\n",
       "      <td>[]</td>\n",
       "      <td>['ChatGPT']</td>\n",
       "    </tr>\n",
       "    <tr>\n",
       "      <th>1</th>\n",
       "      <td>2023-03-29 22:58:18+00:00</td>\n",
       "      <td>@mecolehardman chat gpt say it ’  face_with_te...</td>\n",
       "      <td>AmyLouWho321</td>\n",
       "      <td>0</td>\n",
       "      <td>0</td>\n",
       "      <td>['MecoleHardman4']</td>\n",
       "      <td>[]</td>\n",
       "    </tr>\n",
       "    <tr>\n",
       "      <th>2</th>\n",
       "      <td>2023-03-29 22:57:53+00:00</td>\n",
       "      <td>chat pdf check new ai quickly answer question ...</td>\n",
       "      <td>yjleon1976</td>\n",
       "      <td>0</td>\n",
       "      <td>0</td>\n",
       "      <td>[]</td>\n",
       "      <td>['research', 'chatpdf', 'ChatGPT']</td>\n",
       "    </tr>\n",
       "    <tr>\n",
       "      <th>3</th>\n",
       "      <td>2023-03-29 22:57:52+00:00</td>\n",
       "      <td>ai muse court life must face judge destiny jur...</td>\n",
       "      <td>ChatGPT_Thinks</td>\n",
       "      <td>0</td>\n",
       "      <td>0</td>\n",
       "      <td>[]</td>\n",
       "      <td>['OutOfContextAI', 'AILifeLessons', 'ChatGPT']</td>\n",
       "    </tr>\n",
       "    <tr>\n",
       "      <th>4</th>\n",
       "      <td>2023-03-29 22:57:26+00:00</td>\n",
       "      <td>people have not hear chat gpt yet first elite ...</td>\n",
       "      <td>nikocosmonaut</td>\n",
       "      <td>0</td>\n",
       "      <td>0</td>\n",
       "      <td>[]</td>\n",
       "      <td>[]</td>\n",
       "    </tr>\n",
       "  </tbody>\n",
       "</table>\n",
       "</div>"
      ],
      "text/plain": [
       "                        date  \\\n",
       "0  2023-03-29 22:58:21+00:00   \n",
       "1  2023-03-29 22:58:18+00:00   \n",
       "2  2023-03-29 22:57:53+00:00   \n",
       "3  2023-03-29 22:57:52+00:00   \n",
       "4  2023-03-29 22:57:26+00:00   \n",
       "\n",
       "                                             content        username  \\\n",
       "0  free ai marketing automation tool strategy col...  RealProfitPros   \n",
       "1  @mecolehardman chat gpt say it ’  face_with_te...    AmyLouWho321   \n",
       "2  chat pdf check new ai quickly answer question ...      yjleon1976   \n",
       "3  ai muse court life must face judge destiny jur...  ChatGPT_Thinks   \n",
       "4  people have not hear chat gpt yet first elite ...   nikocosmonaut   \n",
       "\n",
       "   like_count  retweet_count  accounts_mentioned  \\\n",
       "0           0              0                  []   \n",
       "1           0              0  ['MecoleHardman4']   \n",
       "2           0              0                  []   \n",
       "3           0              0                  []   \n",
       "4           0              0                  []   \n",
       "\n",
       "                                         hashtags  \n",
       "0                                     ['ChatGPT']  \n",
       "1                                              []  \n",
       "2              ['research', 'chatpdf', 'ChatGPT']  \n",
       "3  ['OutOfContextAI', 'AILifeLessons', 'ChatGPT']  \n",
       "4                                              []  "
      ]
     },
     "execution_count": 156,
     "metadata": {},
     "output_type": "execute_result"
    }
   ],
   "source": [
    "df.head(5)"
   ]
  },
  {
   "cell_type": "markdown",
   "id": "4830ecd1",
   "metadata": {},
   "source": [
    "## Most 10 mentioned accounts"
   ]
  },
  {
   "cell_type": "code",
   "execution_count": 186,
   "id": "94896668",
   "metadata": {},
   "outputs": [
    {
     "data": {
      "text/plain": [
       "['OpenAI']            7645\n",
       "['elonmusk']          3610\n",
       "['YouTube']           2727\n",
       "['ChatGPT']           1096\n",
       "['Google']             706\n",
       "['sama']               659\n",
       "['Microsoft']          563\n",
       "['bing']               443\n",
       "['AIPADTECH']          416\n",
       "['crypto_talkies']     370\n",
       "Name: accounts_mentioned, dtype: int64"
      ]
     },
     "execution_count": 186,
     "metadata": {},
     "output_type": "execute_result"
    }
   ],
   "source": [
    "# get the value counts of top 10 accounts mentioned in tweets\n",
    "mentions = df.accounts_mentioned.value_counts()[1:11]\n",
    "mentions"
   ]
  },
  {
   "cell_type": "code",
   "execution_count": 187,
   "id": "7902b258",
   "metadata": {},
   "outputs": [
    {
     "data": {
      "text/plain": [
       "OpenAI            7645\n",
       "elonmusk          3610\n",
       "YouTube           2727\n",
       "ChatGPT           1096\n",
       "Google             706\n",
       "sama               659\n",
       "Microsoft          563\n",
       "bing               443\n",
       "AIPADTECH          416\n",
       "crypto_talkies     370\n",
       "dtype: int64"
      ]
     },
     "execution_count": 187,
     "metadata": {},
     "output_type": "execute_result"
    }
   ],
   "source": [
    "mentions.keys()\n",
    "filtered_mentions = {}\n",
    "for key in mentions.keys():\n",
    "    newkey = ast.literal_eval(key)[0]\n",
    "    filtered_mentions[newkey] = mentions[key]\n",
    "\n",
    "top_10_mentions = pd.Series(filtered_mentions)\n",
    "top_10_mentions"
   ]
  },
  {
   "cell_type": "markdown",
   "id": "8aad1e60",
   "metadata": {},
   "source": [
    "## Visualisation"
   ]
  },
  {
   "cell_type": "code",
   "execution_count": 189,
   "id": "d447ae35",
   "metadata": {},
   "outputs": [
    {
     "data": {
      "text/plain": [
       "<Figure size 1440x1080 with 0 Axes>"
      ]
     },
     "execution_count": 189,
     "metadata": {},
     "output_type": "execute_result"
    },
    {
     "data": {
      "image/png": "[encoded data removed]",
      "text/plain": [
       "<Figure size 432x288 with 1 Axes>"
      ]
     },
     "metadata": {
      "needs_background": "light"
     },
     "output_type": "display_data"
    },
    {
     "data": {
      "text/plain": [
       "<Figure size 1440x1080 with 0 Axes>"
      ]
     },
     "metadata": {},
     "output_type": "display_data"
    }
   ],
   "source": [
    "top_10_mentions.plot.bar();\n",
    "plt.title(\"Top 10 Mentioned Accounts in Twitter Dataset\")\n",
    "plt.xlabel(\"Mentioned Accounts\");\n",
    "plt.ylabel(\"Number of Occurances\")\n",
    "plt.figure(figsize=(20,15))"
   ]
  },
  {
   "cell_type": "markdown",
   "id": "893b4572",
   "metadata": {},
   "source": [
    "## Top 20 hastags\n",
    "#### Hastags are saved in row as list against every tweet. To get accurate overall hastags we need to add them"
   ]
  },
  {
   "cell_type": "code",
   "execution_count": 158,
   "id": "a7831842",
   "metadata": {},
   "outputs": [
    {
     "data": {
      "text/plain": [
       "['ChatGPT']          84761\n",
       "['chatgpt']           8455\n",
       "['ChatGPT', 'AI']     5454\n",
       "['chatGPT']           4501\n",
       "['AI', 'ChatGPT']     4375\n",
       "Name: hashtags, dtype: int64"
      ]
     },
     "execution_count": 158,
     "metadata": {},
     "output_type": "execute_result"
    }
   ],
   "source": [
    "# hastags seem to be case sensitive which they shouldn't be. For example, ChatGPT & chatgpt are different\n",
    "hashtags = df.hashtags.value_counts()[1:21]\n",
    "hashtags.head(5)"
   ]
  },
  {
   "cell_type": "code",
   "execution_count": 159,
   "id": "a3dae45f",
   "metadata": {},
   "outputs": [
    {
     "data": {
      "text/plain": [
       "{\"['ChatGPT']\": 84761,\n",
       " \"['chatgpt']\": 8455,\n",
       " \"['ChatGPT', 'AI']\": 5454,\n",
       " \"['chatGPT']\": 4501,\n",
       " \"['AI', 'ChatGPT']\": 4375,\n",
       " \"['ChatGPT', 'OpenAI']\": 1345,\n",
       " \"['MidJourney', 'OpenAi', 'GPT', 'StableDiffusion2', 'DallE', 'ChatGPT', 'imagine']\": 1219,\n",
       " \"['OpenAI', 'ChatGPT']\": 1094,\n",
       " \"['ChatGPT', 'ChatGPT']\": 811,\n",
       " \"['trading', 'stocks', 'Options', 'chatgpt']\": 789,\n",
       " \"['technology', 'innovation', 'chatGPT', 'openai', 'programming']\": 754,\n",
       " \"['chatgpt', 'chatgptprompts', 'chatbot', 'chatbotai', 'aichatbot', 'ai', 'artificialintelligence', 'aiprompts', 'prompts', 'writingprompts', 'ideaprompts', 'creativeprompts']\": 748,\n",
       " \"['ai', 'chatgpt']\": 710,\n",
       " \"['CoinEx', 'ChatGPT']\": 644,\n",
       " \"['ChatGPT', 'ArtificialIntelligence']\": 580,\n",
       " \"['Chatgpt']\": 576,\n",
       " \"['chatgpt', 'ai']\": 522,\n",
       " \"['Metaverse', 'AR', 'VR', '100DaysofCode', '5G', 'Web3', 'AI', 'ArtificialIntelligence', 'Gaming', 'ChatGPT', 'IoT', 'Python', 'Tech']\": 482,\n",
       " \"['ChatGPT', 'GPT4']\": 475,\n",
       " \"['ai', 'ChatGPT']\": 458}"
      ]
     },
     "execution_count": 159,
     "metadata": {},
     "output_type": "execute_result"
    }
   ],
   "source": [
    "# convert series to dict\n",
    "hashtags_dict = hashtags.to_dict()\n",
    "hashtags_dict"
   ]
  },
  {
   "cell_type": "code",
   "execution_count": 160,
   "id": "cd133467",
   "metadata": {},
   "outputs": [],
   "source": [
    "unique_hastags = {}\n",
    "# size of dataset\n",
    "total = df.shape[0]\n",
    "for tags, value in hashtags_dict.items():\n",
    "    # convert string representation to list\n",
    "    _keys = ast.literal_eval(tags)\n",
    "    for _key in _keys:\n",
    "        _key = _key.lower()\n",
    "        if _key in unique_hastags:\n",
    "            unique_hastags[_key] = unique_hastags[_key] + value\n",
    "        else:\n",
    "            unique_hastags[_key] = value\n",
    "hastags_sr = pd.Series(unique_hastags)"
   ]
  },
  {
   "cell_type": "code",
   "execution_count": 161,
   "id": "e33550df",
   "metadata": {},
   "outputs": [
    {
     "data": {
      "text/plain": [
       "{'chatgpt': 119564,\n",
       " 'ai': 12749,\n",
       " 'openai': 4412,\n",
       " 'midjourney': 1219,\n",
       " 'gpt': 1219,\n",
       " 'stablediffusion2': 1219,\n",
       " 'dalle': 1219,\n",
       " 'imagine': 1219,\n",
       " 'trading': 789,\n",
       " 'stocks': 789,\n",
       " 'options': 789,\n",
       " 'technology': 754,\n",
       " 'innovation': 754,\n",
       " 'programming': 754,\n",
       " 'chatgptprompts': 748,\n",
       " 'chatbot': 748,\n",
       " 'chatbotai': 748,\n",
       " 'aichatbot': 748,\n",
       " 'artificialintelligence': 1810,\n",
       " 'aiprompts': 748,\n",
       " 'prompts': 748,\n",
       " 'writingprompts': 748,\n",
       " 'ideaprompts': 748,\n",
       " 'creativeprompts': 748,\n",
       " 'coinex': 644,\n",
       " 'metaverse': 482,\n",
       " 'ar': 482,\n",
       " 'vr': 482,\n",
       " '100daysofcode': 482,\n",
       " '5g': 482,\n",
       " 'web3': 482,\n",
       " 'gaming': 482,\n",
       " 'iot': 482,\n",
       " 'python': 482,\n",
       " 'tech': 482,\n",
       " 'gpt4': 475}"
      ]
     },
     "execution_count": 161,
     "metadata": {},
     "output_type": "execute_result"
    }
   ],
   "source": [
    "unique_hastags"
   ]
  },
  {
   "cell_type": "markdown",
   "id": "d068dda8",
   "metadata": {},
   "source": [
    "### As 'chatgpt' hashtags is highest among all which is obvious so we can probably avoid it from the list"
   ]
  },
  {
   "cell_type": "code",
   "execution_count": 162,
   "id": "58e5e488",
   "metadata": {},
   "outputs": [],
   "source": [
    "df_hashtags = pd.DataFrame(list(unique_hastags.items()), columns=[\"hashtags\", \"count\"])\n",
    "df_hashtags_top20 = df_hashtags[1:21].sort_values(by=\"count\", ascending=False)"
   ]
  },
  {
   "cell_type": "markdown",
   "id": "a8e2a927",
   "metadata": {},
   "source": []
  },
  {
   "cell_type": "code",
   "execution_count": 163,
   "id": "cf831c0f",
   "metadata": {},
   "outputs": [
    {
     "data": {
      "text/html": [
       "<div>\n",
       "<style scoped>\n",
       "    .dataframe tbody tr th:only-of-type {\n",
       "        vertical-align: middle;\n",
       "    }\n",
       "\n",
       "    .dataframe tbody tr th {\n",
       "        vertical-align: top;\n",
       "    }\n",
       "\n",
       "    .dataframe thead th {\n",
       "        text-align: right;\n",
       "    }\n",
       "</style>\n",
       "<table border=\"1\" class=\"dataframe\">\n",
       "  <thead>\n",
       "    <tr style=\"text-align: right;\">\n",
       "      <th></th>\n",
       "      <th>hashtags</th>\n",
       "      <th>count</th>\n",
       "      <th>share</th>\n",
       "    </tr>\n",
       "  </thead>\n",
       "  <tbody>\n",
       "    <tr>\n",
       "      <th>1</th>\n",
       "      <td>ai</td>\n",
       "      <td>12749</td>\n",
       "      <td>2.549933</td>\n",
       "    </tr>\n",
       "    <tr>\n",
       "      <th>2</th>\n",
       "      <td>openai</td>\n",
       "      <td>4412</td>\n",
       "      <td>0.882446</td>\n",
       "    </tr>\n",
       "    <tr>\n",
       "      <th>18</th>\n",
       "      <td>artificialintelligence</td>\n",
       "      <td>1810</td>\n",
       "      <td>0.362019</td>\n",
       "    </tr>\n",
       "    <tr>\n",
       "      <th>3</th>\n",
       "      <td>midjourney</td>\n",
       "      <td>1219</td>\n",
       "      <td>0.243813</td>\n",
       "    </tr>\n",
       "    <tr>\n",
       "      <th>4</th>\n",
       "      <td>gpt</td>\n",
       "      <td>1219</td>\n",
       "      <td>0.243813</td>\n",
       "    </tr>\n",
       "    <tr>\n",
       "      <th>5</th>\n",
       "      <td>stablediffusion2</td>\n",
       "      <td>1219</td>\n",
       "      <td>0.243813</td>\n",
       "    </tr>\n",
       "    <tr>\n",
       "      <th>6</th>\n",
       "      <td>dalle</td>\n",
       "      <td>1219</td>\n",
       "      <td>0.243813</td>\n",
       "    </tr>\n",
       "    <tr>\n",
       "      <th>7</th>\n",
       "      <td>imagine</td>\n",
       "      <td>1219</td>\n",
       "      <td>0.243813</td>\n",
       "    </tr>\n",
       "    <tr>\n",
       "      <th>8</th>\n",
       "      <td>trading</td>\n",
       "      <td>789</td>\n",
       "      <td>0.157808</td>\n",
       "    </tr>\n",
       "    <tr>\n",
       "      <th>9</th>\n",
       "      <td>stocks</td>\n",
       "      <td>789</td>\n",
       "      <td>0.157808</td>\n",
       "    </tr>\n",
       "    <tr>\n",
       "      <th>10</th>\n",
       "      <td>options</td>\n",
       "      <td>789</td>\n",
       "      <td>0.157808</td>\n",
       "    </tr>\n",
       "    <tr>\n",
       "      <th>13</th>\n",
       "      <td>programming</td>\n",
       "      <td>754</td>\n",
       "      <td>0.150808</td>\n",
       "    </tr>\n",
       "    <tr>\n",
       "      <th>11</th>\n",
       "      <td>technology</td>\n",
       "      <td>754</td>\n",
       "      <td>0.150808</td>\n",
       "    </tr>\n",
       "    <tr>\n",
       "      <th>12</th>\n",
       "      <td>innovation</td>\n",
       "      <td>754</td>\n",
       "      <td>0.150808</td>\n",
       "    </tr>\n",
       "    <tr>\n",
       "      <th>14</th>\n",
       "      <td>chatgptprompts</td>\n",
       "      <td>748</td>\n",
       "      <td>0.149608</td>\n",
       "    </tr>\n",
       "    <tr>\n",
       "      <th>15</th>\n",
       "      <td>chatbot</td>\n",
       "      <td>748</td>\n",
       "      <td>0.149608</td>\n",
       "    </tr>\n",
       "    <tr>\n",
       "      <th>16</th>\n",
       "      <td>chatbotai</td>\n",
       "      <td>748</td>\n",
       "      <td>0.149608</td>\n",
       "    </tr>\n",
       "    <tr>\n",
       "      <th>17</th>\n",
       "      <td>aichatbot</td>\n",
       "      <td>748</td>\n",
       "      <td>0.149608</td>\n",
       "    </tr>\n",
       "    <tr>\n",
       "      <th>19</th>\n",
       "      <td>aiprompts</td>\n",
       "      <td>748</td>\n",
       "      <td>0.149608</td>\n",
       "    </tr>\n",
       "    <tr>\n",
       "      <th>20</th>\n",
       "      <td>prompts</td>\n",
       "      <td>748</td>\n",
       "      <td>0.149608</td>\n",
       "    </tr>\n",
       "  </tbody>\n",
       "</table>\n",
       "</div>"
      ],
      "text/plain": [
       "                  hashtags  count     share\n",
       "1                       ai  12749  2.549933\n",
       "2                   openai   4412  0.882446\n",
       "18  artificialintelligence   1810  0.362019\n",
       "3               midjourney   1219  0.243813\n",
       "4                      gpt   1219  0.243813\n",
       "5         stablediffusion2   1219  0.243813\n",
       "6                    dalle   1219  0.243813\n",
       "7                  imagine   1219  0.243813\n",
       "8                  trading    789  0.157808\n",
       "9                   stocks    789  0.157808\n",
       "10                 options    789  0.157808\n",
       "13             programming    754  0.150808\n",
       "11              technology    754  0.150808\n",
       "12              innovation    754  0.150808\n",
       "14          chatgptprompts    748  0.149608\n",
       "15                 chatbot    748  0.149608\n",
       "16               chatbotai    748  0.149608\n",
       "17               aichatbot    748  0.149608\n",
       "19               aiprompts    748  0.149608\n",
       "20                 prompts    748  0.149608"
      ]
     },
     "execution_count": 163,
     "metadata": {},
     "output_type": "execute_result"
    }
   ],
   "source": [
    "total = df.shape[0]\n",
    "df_hashtags_top20[\"share\"] = (df_hashtags_top20[\"count\"]/total)*100\n",
    "df_hashtags_top20"
   ]
  },
  {
   "cell_type": "markdown",
   "id": "6e30128a",
   "metadata": {},
   "source": [
    "## Visualisation"
   ]
  },
  {
   "cell_type": "code",
   "execution_count": 173,
   "id": "9ad10adb",
   "metadata": {},
   "outputs": [
    {
     "data": {
      "image/png": "[encoded data removed]",
      "text/plain": [
       "<Figure size 432x288 with 1 Axes>"
      ]
     },
     "metadata": {
      "needs_background": "light"
     },
     "output_type": "display_data"
    },
    {
     "data": {
      "text/plain": [
       "<Figure size 1440x1080 with 0 Axes>"
      ]
     },
     "metadata": {},
     "output_type": "display_data"
    }
   ],
   "source": [
    "ax = df_hashtags_top20.plot.bar(x='hashtags', y='share', linewidth=5)\n",
    "plt.title(\"Top 20 Hashtags used in Twitter Dataset\")\n",
    "plt.xlabel(\"Hashtags\");\n",
    "plt.ylabel(\"% Number of Occurances\")\n",
    "plt.figure(figsize=(20,15))\n",
    "# plt.subplots_adjust(bottom=0.15)\n",
    "plt.tight_layout()\n",
    "labels = df_hashtags_top20['share'].round(1).astype('str') #+ '%'\n",
    "for container in ax.containers:\n",
    "    ax.bar_label(container, labels=labels)\n",
    "    ax.yaxis.set_major_formatter(mtick.PercentFormatter())\n",
    "plt.show()"
   ]
  },
  {
   "cell_type": "code",
   "execution_count": null,
   "id": "db78c0ae",
   "metadata": {},
   "outputs": [],
   "source": []
  }
 ],
 "metadata": {
  "kernelspec": {
   "display_name": "twitter_analysis",
   "language": "python",
   "name": "twitter_analysis"
  },
  "language_info": {
   "codemirror_mode": {
    "name": "ipython",
    "version": 3
   },
   "file_extension": ".py",
   "mimetype": "text/x-python",
   "name": "python",
   "nbconvert_exporter": "python",
   "pygments_lexer": "ipython3",
   "version": "3.9.7"
  }
 },
 "nbformat": 4,
 "nbformat_minor": 5
}
