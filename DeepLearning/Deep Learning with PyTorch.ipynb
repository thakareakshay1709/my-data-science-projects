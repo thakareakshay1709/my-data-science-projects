{
 "cells": [
  {
   "cell_type": "markdown",
   "id": "2acf7a45",
   "metadata": {},
   "source": [
    "# To add kernel into jupyter notebook\n",
    "### create virtual env\n",
    "### --> conda create --name condaenv\n",
    "### --> conda activate condaenv # activate virtual env\n",
    "\n",
    "## add this virtual environment as a kernel in jupyter notebook\n",
    "\n",
    "### --> ipython kernal install --name = condaenv --user\n"
   ]
  },
  {
   "cell_type": "code",
   "execution_count": 5,
   "id": "cedf69f0",
   "metadata": {},
   "outputs": [],
   "source": [
    "# !jupyter kernelspec list --json\n",
    "# conda install pytorch torchvision torchaudio cudatoolkit=10.2 -c pytorch"
   ]
  },
  {
   "cell_type": "code",
   "execution_count": 1,
   "id": "9301c93e",
   "metadata": {},
   "outputs": [],
   "source": [
    "import torch\n",
    "import numpy as np"
   ]
  },
  {
   "cell_type": "code",
   "execution_count": 2,
   "id": "db803235",
   "metadata": {},
   "outputs": [
    {
     "name": "stdout",
     "output_type": "stream",
     "text": [
      "True\n"
     ]
    }
   ],
   "source": [
    "print(torch.cuda.is_available())"
   ]
  },
  {
   "cell_type": "code",
   "execution_count": 3,
   "id": "76d5ab47",
   "metadata": {},
   "outputs": [
    {
     "data": {
      "text/plain": [
       "tensor([[0.7725, 0.4839, 0.1514, 0.7692],\n",
       "        [0.5027, 0.4641, 0.2058, 0.1789],\n",
       "        [0.7311, 0.3349, 0.5977, 0.4028],\n",
       "        [0.8362, 0.5631, 0.6192, 0.1497]])"
      ]
     },
     "execution_count": 3,
     "metadata": {},
     "output_type": "execute_result"
    }
   ],
   "source": [
    "# creating tensors with shape 5X2\n",
    "x = torch.rand(4,4)\n",
    "x"
   ]
  },
  {
   "cell_type": "code",
   "execution_count": 4,
   "id": "ec942349",
   "metadata": {},
   "outputs": [
    {
     "data": {
      "text/plain": [
       "0.48388808965682983"
      ]
     },
     "execution_count": 4,
     "metadata": {},
     "output_type": "execute_result"
    }
   ],
   "source": [
    "x[0,1].item() # getting the item or single tensor value"
   ]
  },
  {
   "cell_type": "code",
   "execution_count": 5,
   "id": "371dd960",
   "metadata": {},
   "outputs": [
    {
     "data": {
      "text/plain": [
       "tensor([[0.7725, 0.4839, 0.1514, 0.7692],\n",
       "        [0.5027, 0.4641, 0.2058, 0.1789],\n",
       "        [0.7311, 0.3349, 0.5977, 0.4028],\n",
       "        [0.8362, 0.5631, 0.6192, 0.1497]])"
      ]
     },
     "execution_count": 5,
     "metadata": {},
     "output_type": "execute_result"
    }
   ],
   "source": [
    "a = x.view(-1,4) # converted into\n",
    "a"
   ]
  },
  {
   "cell_type": "code",
   "execution_count": 6,
   "id": "c70e59c6",
   "metadata": {},
   "outputs": [
    {
     "data": {
      "text/plain": [
       "torch.Size([4, 4])"
      ]
     },
     "execution_count": 6,
     "metadata": {},
     "output_type": "execute_result"
    }
   ],
   "source": [
    "x.size()"
   ]
  },
  {
   "cell_type": "code",
   "execution_count": 7,
   "id": "e2dbe794",
   "metadata": {},
   "outputs": [],
   "source": [
    "del x"
   ]
  },
  {
   "cell_type": "markdown",
   "id": "4e17d4a3",
   "metadata": {},
   "source": [
    "## AutoGrad"
   ]
  },
  {
   "cell_type": "code",
   "execution_count": 8,
   "id": "8d0c29a9",
   "metadata": {},
   "outputs": [
    {
     "name": "stdout",
     "output_type": "stream",
     "text": [
      "tensor([0.0365, 0.7033, 0.1784, 0.1161, 0.0298], requires_grad=True)\n"
     ]
    }
   ],
   "source": [
    "x = torch.rand(5, requires_grad=True) # this states that we will need the gradients of these tensors\n",
    "print(x)"
   ]
  },
  {
   "cell_type": "code",
   "execution_count": 9,
   "id": "5c6faaa9",
   "metadata": {},
   "outputs": [
    {
     "data": {
      "text/plain": [
       "tensor([2.0365, 2.7033, 2.1784, 2.1161, 2.0298], grad_fn=<AddBackward0>)"
      ]
     },
     "execution_count": 9,
     "metadata": {},
     "output_type": "execute_result"
    }
   ],
   "source": [
    "y = x+2\n",
    "y"
   ]
  },
  {
   "cell_type": "code",
   "execution_count": 10,
   "id": "b087d50b",
   "metadata": {},
   "outputs": [
    {
     "data": {
      "text/plain": [
       "tensor(9.9195, grad_fn=<MeanBackward0>)"
      ]
     },
     "execution_count": 10,
     "metadata": {},
     "output_type": "execute_result"
    }
   ],
   "source": [
    "z = y*y*2\n",
    "z = z.mean()\n",
    "z"
   ]
  },
  {
   "cell_type": "code",
   "execution_count": 11,
   "id": "0d93857a",
   "metadata": {},
   "outputs": [
    {
     "name": "stdout",
     "output_type": "stream",
     "text": [
      "tensor([1.6292, 2.1626, 1.7427, 1.6929, 1.6239])\n"
     ]
    }
   ],
   "source": [
    "z.backward()\n",
    "print(x.grad) # dz/dx # chain rule of jacobian product"
   ]
  },
  {
   "cell_type": "code",
   "execution_count": 12,
   "id": "69e76b04",
   "metadata": {},
   "outputs": [
    {
     "data": {
      "text/plain": [
       "tensor([0.9660, 0.8534, 0.7706], requires_grad=True)"
      ]
     },
     "execution_count": 12,
     "metadata": {},
     "output_type": "execute_result"
    }
   ],
   "source": [
    "del x\n",
    "\n",
    "x = torch.rand(3, requires_grad=True)\n",
    "x"
   ]
  },
  {
   "cell_type": "code",
   "execution_count": 13,
   "id": "6de212c7",
   "metadata": {},
   "outputs": [
    {
     "data": {
      "text/plain": [
       "tensor([2.9660, 2.8534, 2.7706], grad_fn=<AddBackward0>)"
      ]
     },
     "execution_count": 13,
     "metadata": {},
     "output_type": "execute_result"
    }
   ],
   "source": [
    "y = x + 2\n",
    "y"
   ]
  },
  {
   "cell_type": "markdown",
   "id": "1e96600a",
   "metadata": {},
   "source": [
    "## 3 ways to make tensors not consider the gradient\n",
    "## This function will track the history of computation graph\n",
    "\n",
    "#### 1. x.requires_grad_(False)\n",
    "#### 2. x.detach()\n",
    "#### 3. with torch.no_grad()"
   ]
  },
  {
   "cell_type": "code",
   "execution_count": 14,
   "id": "7d017836",
   "metadata": {},
   "outputs": [
    {
     "data": {
      "text/plain": [
       "tensor([0.9660, 0.8534, 0.7706])"
      ]
     },
     "execution_count": 14,
     "metadata": {},
     "output_type": "execute_result"
    }
   ],
   "source": [
    "# 1\n",
    "x.requires_grad_(False) # whenever we have trailing underscore, it torch will use inplace operation\n",
    "x"
   ]
  },
  {
   "cell_type": "code",
   "execution_count": 15,
   "id": "c628b557",
   "metadata": {},
   "outputs": [
    {
     "data": {
      "text/plain": [
       "tensor([0.9660, 0.8534, 0.7706])"
      ]
     },
     "execution_count": 15,
     "metadata": {},
     "output_type": "execute_result"
    }
   ],
   "source": [
    "# 2\n",
    "y = x.detach()\n",
    "y"
   ]
  },
  {
   "cell_type": "code",
   "execution_count": 16,
   "id": "59beb653",
   "metadata": {},
   "outputs": [
    {
     "name": "stdout",
     "output_type": "stream",
     "text": [
      "tensor([2.9660, 2.8534, 2.7706])\n"
     ]
    }
   ],
   "source": [
    "# 3\n",
    "with torch.no_grad():\n",
    "    z = x+2\n",
    "    print(z)"
   ]
  },
  {
   "cell_type": "code",
   "execution_count": 17,
   "id": "8d6a6d26",
   "metadata": {},
   "outputs": [],
   "source": [
    "del z\n",
    "del y\n",
    "del x"
   ]
  },
  {
   "cell_type": "markdown",
   "id": "50630186",
   "metadata": {},
   "source": [
    "# Back Propagation\n",
    "## 3 Steps:\n",
    "### 1. Forward Pass\n",
    "### 2. Compute local gradients\n",
    "### 3. Backward Pass: Compute dLoss/dWeights using chain rule"
   ]
  },
  {
   "cell_type": "code",
   "execution_count": 18,
   "id": "40ac3bb5",
   "metadata": {},
   "outputs": [
    {
     "name": "stdout",
     "output_type": "stream",
     "text": [
      "tensor(1., grad_fn=<PowBackward0>)\n"
     ]
    }
   ],
   "source": [
    "x = torch.tensor(1.0)\n",
    "y = torch.tensor(2.0)\n",
    "\n",
    "w = torch.tensor(1.0, requires_grad=True) # we need gradients of weights\n",
    "\n",
    "# forward pass & compute the loss\n",
    "y_hat = w*x\n",
    "loss = (y_hat - y)**2\n",
    "print(loss)"
   ]
  },
  {
   "cell_type": "code",
   "execution_count": 19,
   "id": "b8aee3da",
   "metadata": {},
   "outputs": [
    {
     "name": "stdout",
     "output_type": "stream",
     "text": [
      "tensor(-2.)\n"
     ]
    }
   ],
   "source": [
    "# backward pass, chain rule computations will be handled by pytorch\n",
    "loss.backward()\n",
    "print(w.grad)"
   ]
  },
  {
   "cell_type": "code",
   "execution_count": null,
   "id": "5be521bf",
   "metadata": {},
   "outputs": [],
   "source": []
  }
 ],
 "metadata": {
  "kernelspec": {
   "display_name": "condaenv",
   "language": "python",
   "name": "condaenv"
  },
  "language_info": {
   "codemirror_mode": {
    "name": "ipython",
    "version": 3
   },
   "file_extension": ".py",
   "mimetype": "text/x-python",
   "name": "python",
   "nbconvert_exporter": "python",
   "pygments_lexer": "ipython3",
   "version": "3.8.8"
  }
 },
 "nbformat": 4,
 "nbformat_minor": 5
}
